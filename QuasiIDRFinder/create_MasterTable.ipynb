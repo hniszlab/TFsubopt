{
 "cells": [
  {
   "cell_type": "code",
   "execution_count": 5,
   "metadata": {},
   "outputs": [],
   "source": [
    "library(\"rjson\")\n",
    "library(\"seqinr\")\n",
    "library(\"seqRFLP\")\n",
    "options(warn=-1)\n",
    "library(\"protr\")\n",
    "library('DescTools')\n",
    "library(jsonlite)\n",
    "library(data.table)\n",
    "library(\"writexl\")\n"
   ]
  },
  {
   "cell_type": "markdown",
   "metadata": {},
   "source": [
    "#### import metapredict indexes\n"
   ]
  },
  {
   "cell_type": "code",
   "execution_count": 5,
   "metadata": {},
   "outputs": [],
   "source": [
    "json_data_metapredict<- fromJSON(txt='./metapredict/metapredict_least20_concIDRs.json')"
   ]
  },
  {
   "cell_type": "markdown",
   "metadata": {},
   "source": [
    "#### import Quazi IDR Finder Table"
   ]
  },
  {
   "cell_type": "code",
   "execution_count": 6,
   "metadata": {},
   "outputs": [],
   "source": [
    "outcome_IDP_predictor_counts<- fromJSON(\"./Quasi_IDR_Finder/output_quaziIDRFinder_canonical_all_qIDR.json\")\n"
   ]
  },
  {
   "cell_type": "code",
   "execution_count": 7,
   "metadata": {},
   "outputs": [],
   "source": [
    "outcome_IDP_predictor=outcome_IDP_predictor_counts[lengths(outcome_IDP_predictor_counts) != 0]"
   ]
  },
  {
   "cell_type": "markdown",
   "metadata": {},
   "source": [
    "#### get protein names that have longer than 100 aas"
   ]
  },
  {
   "cell_type": "code",
   "execution_count": 6,
   "metadata": {},
   "outputs": [],
   "source": [
    "dict_keys_lenlongerthan100<- fromJSON('./HG38_pep/longerthan100dic.json')"
   ]
  },
  {
   "cell_type": "markdown",
   "metadata": {},
   "source": [
    "#### intersect Quazi IDR found keys and metapredict prediction found keys"
   ]
  },
  {
   "cell_type": "code",
   "execution_count": 9,
   "metadata": {},
   "outputs": [],
   "source": [
    "int_keys=intersect(names(outcome_IDP_predictor),names(json_data_metapredict))"
   ]
  },
  {
   "cell_type": "markdown",
   "metadata": {},
   "source": [
    "#### check if metapredict and Quasi IDR regions overlap"
   ]
  },
  {
   "cell_type": "code",
   "execution_count": 12,
   "metadata": {},
   "outputs": [],
   "source": [
    "\n",
    "count=0\n",
    "\n",
    "\n",
    "\n",
    "overlap_outcome=list()\n",
    "overlapped_region=list()\n",
    "overlapped_percentage=list()\n",
    "\n",
    "\n",
    "for(i in 1:length(int_keys)){\n",
    "\n",
    "\n",
    "     a=int_keys[i]\n",
    "\n",
    "     idp_values=outcome_IDP_predictor[[a]]\n",
    "\n",
    "     metapredict_values=json_data_metapredict[[a]]\n",
    "\n",
    "     cut=idp_values[1:2]\n",
    "\n",
    "\n",
    "     if (is.null(metapredict_values)) { \n",
    "\n",
    "\n",
    "         overlap_outcome[[i]] <- 'no'\n",
    "\n",
    "         overlapped_region[[i]]=NULL\n",
    "\n",
    "         overlapped_percentage[[i]]=0\n",
    "\n",
    "         next\n",
    "\n",
    "\n",
    "\n",
    "        }\n",
    "\n",
    "\n",
    "\n",
    "    for(y in seq(from=1, to=length(metapredict_values), by=2)){\n",
    "\n",
    "        sequence=c(metapredict_values[y]+1,metapredict_values[y+1])\n",
    "\n",
    "        perc=seq(sequence[1],sequence[-1])\n",
    "\n",
    "\n",
    "        perc2=seq(cut[1],cut[-1])\n",
    "\n",
    "        overlap_orig=(length(intersect(perc,perc2)))/(sequence[-1]-sequence[1]+1)\n",
    "\n",
    "\n",
    "\n",
    "        if(((cut)) %overlaps% (sequence) & overlap_orig>=0 ){\n",
    "\n",
    "\n",
    "            count=count+1\n",
    "\n",
    "            overlap_outcome[[i]] <- 'yes'\n",
    "\n",
    "            overlapped_region[[i]]=sequence\n",
    "\n",
    "            overlapped_percentage[[i]]=overlap_orig\n",
    "\n",
    "\n",
    "            break\n",
    "\n",
    "\n",
    "        }\n",
    "\n",
    "\n",
    "     }\n",
    "\n",
    "\n",
    "    if(length(overlap_outcome)!=i){\n",
    "\n",
    "        overlap_outcome[[i]] <- 'no'\n",
    "\n",
    "        overlapped_region[[i]]=NULL\n",
    "\n",
    "        overlapped_percentage[[i]]=0\n",
    "\n",
    "\n",
    "\n",
    "    }\n",
    "\n",
    "\n",
    "\n",
    "  }"
   ]
  },
  {
   "cell_type": "code",
   "execution_count": null,
   "metadata": {},
   "outputs": [],
   "source": []
  },
  {
   "cell_type": "markdown",
   "metadata": {},
   "source": [
    "#### for PLAAC comparison, get PLAAC annotations"
   ]
  },
  {
   "cell_type": "code",
   "execution_count": 14,
   "metadata": {},
   "outputs": [
    {
     "data": {
      "text/html": [
       "<table class=\"dataframe\">\n",
       "<caption>A data.frame: 6 × 4</caption>\n",
       "<thead>\n",
       "\t<tr><th></th><th scope=col>SEQid</th><th scope=col>PRDstart</th><th scope=col>PRDend</th><th scope=col>PRDlen</th></tr>\n",
       "\t<tr><th></th><th scope=col>&lt;chr&gt;</th><th scope=col>&lt;int&gt;</th><th scope=col>&lt;int&gt;</th><th scope=col>&lt;int&gt;</th></tr>\n",
       "</thead>\n",
       "<tbody>\n",
       "\t<tr><th scope=row>1</th><td>ENSP00000371861.4</td><td>132</td><td>530</td><td>399</td></tr>\n",
       "\t<tr><th scope=row>2</th><td>ENSP00000498344.1</td><td> 92</td><td>152</td><td> 61</td></tr>\n",
       "\t<tr><th scope=row>3</th><td>ENSP00000508087.1</td><td>297</td><td>695</td><td>399</td></tr>\n",
       "\t<tr><th scope=row>4</th><td>ENSP00000384573.1</td><td>462</td><td>716</td><td>255</td></tr>\n",
       "\t<tr><th scope=row>5</th><td>ENSP00000371802.2</td><td>132</td><td>410</td><td>279</td></tr>\n",
       "\t<tr><th scope=row>6</th><td>ENSP00000286835.7</td><td>312</td><td>402</td><td> 91</td></tr>\n",
       "</tbody>\n",
       "</table>\n"
      ],
      "text/latex": [
       "A data.frame: 6 × 4\n",
       "\\begin{tabular}{r|llll}\n",
       "  & SEQid & PRDstart & PRDend & PRDlen\\\\\n",
       "  & <chr> & <int> & <int> & <int>\\\\\n",
       "\\hline\n",
       "\t1 & ENSP00000371861.4 & 132 & 530 & 399\\\\\n",
       "\t2 & ENSP00000498344.1 &  92 & 152 &  61\\\\\n",
       "\t3 & ENSP00000508087.1 & 297 & 695 & 399\\\\\n",
       "\t4 & ENSP00000384573.1 & 462 & 716 & 255\\\\\n",
       "\t5 & ENSP00000371802.2 & 132 & 410 & 279\\\\\n",
       "\t6 & ENSP00000286835.7 & 312 & 402 &  91\\\\\n",
       "\\end{tabular}\n"
      ],
      "text/markdown": [
       "\n",
       "A data.frame: 6 × 4\n",
       "\n",
       "| <!--/--> | SEQid &lt;chr&gt; | PRDstart &lt;int&gt; | PRDend &lt;int&gt; | PRDlen &lt;int&gt; |\n",
       "|---|---|---|---|---|\n",
       "| 1 | ENSP00000371861.4 | 132 | 530 | 399 |\n",
       "| 2 | ENSP00000498344.1 |  92 | 152 |  61 |\n",
       "| 3 | ENSP00000508087.1 | 297 | 695 | 399 |\n",
       "| 4 | ENSP00000384573.1 | 462 | 716 | 255 |\n",
       "| 5 | ENSP00000371802.2 | 132 | 410 | 279 |\n",
       "| 6 | ENSP00000286835.7 | 312 | 402 |  91 |\n",
       "\n"
      ],
      "text/plain": [
       "  SEQid             PRDstart PRDend PRDlen\n",
       "1 ENSP00000371861.4 132      530    399   \n",
       "2 ENSP00000498344.1  92      152     61   \n",
       "3 ENSP00000508087.1 297      695    399   \n",
       "4 ENSP00000384573.1 462      716    255   \n",
       "5 ENSP00000371802.2 132      410    279   \n",
       "6 ENSP00000286835.7 312      402     91   "
      ]
     },
     "metadata": {},
     "output_type": "display_data"
    }
   ],
   "source": [
    "PLACC_annot <- read.csv(file = './PLAAC/HG38_pep_PLAAC_clean.csv')\n",
    "head(PLACC_annot)"
   ]
  },
  {
   "cell_type": "markdown",
   "metadata": {},
   "source": [
    "#### check if keys have a PLAAC regions inside their qIDR regions"
   ]
  },
  {
   "cell_type": "code",
   "execution_count": 15,
   "metadata": {},
   "outputs": [],
   "source": [
    "`%ni%` <- Negate(`%in%`)"
   ]
  },
  {
   "cell_type": "code",
   "execution_count": 16,
   "metadata": {},
   "outputs": [],
   "source": [
    "count=0\n",
    "overlap_outcome_PLAAC=list()\n",
    "\n",
    "for(i in 1:length(int_keys)){\n",
    " \n",
    "     a=int_keys[i]\n",
    "     idp_values=outcome_IDP_predictor[[a]]\n",
    "    \n",
    "    \n",
    "     if (a %ni% PLACC_annot$SEQid){\n",
    "         overlap_outcome_PLAAC[[i]] <- 'no'\n",
    "         next\n",
    "     }\n",
    "    \n",
    "     plaac_values=as.integer(subset(PLACC_annot, SEQid==a,select=c(\"PRDstart\",\"PRDend\")))\n",
    "     cut=idp_values[1:2]\n",
    "\n",
    "    \n",
    "    \n",
    "    \n",
    "    for(y in seq(from=1, to=length(plaac_values), by=2)){\n",
    "        \n",
    "        \n",
    "\n",
    "        \n",
    "    \n",
    "        #print(cut)\n",
    "        sequence=c(plaac_values[y]+1,plaac_values[y+1])\n",
    "        #print(sequence)\n",
    "        perc=seq(sequence[1],sequence[-1])\n",
    "        perc2=seq(cut[1],cut[-1])\n",
    "        overlap_orig=(length(intersect(perc,perc2)))/(sequence[-1]-sequence[1]+1)\n",
    "        #print(overlap_orig)\n",
    "\n",
    "        if(((cut)) %overlaps% (sequence) & overlap_orig>=0 ){\n",
    "            count=count+1\n",
    "            overlap_outcome_PLAAC[[i]] <- 'yes'\n",
    "\n",
    "            break\n",
    "        }\n",
    "        \n",
    "        \n",
    "     }\n",
    "    \n",
    "    if(length(overlap_outcome_PLAAC)!=i){\n",
    "        overlap_outcome_PLAAC[[i]] <- 'no'\n",
    "\n",
    "    }\n",
    "  }\n",
    "\n",
    "   "
   ]
  },
  {
   "cell_type": "markdown",
   "metadata": {},
   "source": [
    "#### check if keys have a InterProt regions inside their qIDR regions"
   ]
  },
  {
   "cell_type": "code",
   "execution_count": 25,
   "metadata": {},
   "outputs": [],
   "source": [
    "interpro_indexes<- fromJSON(txt = './Interpro/interpro_indexes_canonical.json')\n"
   ]
  },
  {
   "cell_type": "code",
   "execution_count": 26,
   "metadata": {},
   "outputs": [],
   "source": [
    "count=0\n",
    "overlap_outcome_interprot=list()\n",
    "\n",
    "for(i in 1:length(int_keys)){\n",
    " \n",
    "     a=int_keys[i]\n",
    "     #print(a)\n",
    "     idp_values=outcome_IDP_predictor[[a]]\n",
    "    \n",
    "    \n",
    "       \n",
    "     if (a %ni% names(interpro_indexes)){\n",
    "         overlap_outcome_interprot[[i]] <- 'no'\n",
    "         next\n",
    "     }\n",
    "    \n",
    "     interprot_values=interpro_indexes[[a]]\n",
    "     cut=idp_values[1:2]\n",
    "\n",
    "\n",
    "    \n",
    "    \n",
    "    for(y in seq(from=1, to=length(interprot_values), by=2)){\n",
    "    \n",
    "        #print(cut)\n",
    "        sequence=c(interprot_values[y]+1,interprot_values[y+1])\n",
    "        #print(sequence)\n",
    "        perc=seq(sequence[1],sequence[-1])\n",
    "        perc2=seq(cut[1],cut[-1])\n",
    "\n",
    "        if(((cut)) %overlaps% (sequence) ){\n",
    "            \n",
    "\n",
    "            count=count+1\n",
    "            \n",
    "            \n",
    "            overlap_outcome_interprot[[i]] <- 'yes'\n",
    "            \n",
    "            \n",
    "            break\n",
    "        }\n",
    "        \n",
    "        \n",
    "     }\n",
    "    \n",
    "    if(length(overlap_outcome_interprot)!=i){\n",
    "        overlap_outcome_interprot[[i]] <- 'no'\n",
    "    }\n",
    "  }\n",
    "\n",
    "   "
   ]
  },
  {
   "cell_type": "markdown",
   "metadata": {},
   "source": [
    "### add total disordered residue information"
   ]
  },
  {
   "cell_type": "code",
   "execution_count": 27,
   "metadata": {},
   "outputs": [],
   "source": [
    "disordered_len_total={}\n",
    "for(i in 1:length(int_keys)){\n",
    "    a=int_keys[i]\n",
    "    len_dis=0\n",
    "    metapredict_values=json_data_metapredict[[a]]\n",
    "    if (is.null(metapredict_values)) {\n",
    "        next}\n",
    "         \n",
    "    for(y in seq(from=1, to=length(metapredict_values), by=2)){\n",
    "        dis=metapredict_values[y+1]-metapredict_values[y]\n",
    "        len_dis=len_dis+dis\n",
    "        }\n",
    "        disordered_len_total[[i]]=len_dis  }\n",
    "        \n",
    "        \n",
    "        \n",
    "        \n",
    "    "
   ]
  },
  {
   "cell_type": "code",
   "execution_count": 28,
   "metadata": {},
   "outputs": [],
   "source": [
    "dataFrame_predict <- transpose(as.data.frame(outcome_IDP_predictor))\n",
    "rownames(dataFrame_predict)=names(outcome_IDP_predictor)\n"
   ]
  },
  {
   "cell_type": "code",
   "execution_count": 29,
   "metadata": {},
   "outputs": [
    {
     "data": {
      "text/html": [
       "<table class=\"dataframe\">\n",
       "<caption>A data.frame: 6 × 11</caption>\n",
       "<thead>\n",
       "\t<tr><th></th><th scope=col>start(qIDR)</th><th scope=col>end(qIDR)</th><th scope=col>length_IDR(qIDR)</th><th scope=col>min(p-val)</th><th scope=col>mean_interarrival_window</th><th scope=col>number_arom_window</th><th scope=col>number_arom_allseq</th><th scope=col>len_orig_seq</th><th scope=col>total_arom_number_qIDR</th><th scope=col>mean_interarrival_qIDR</th><th scope=col>overlap_metapredict</th></tr>\n",
       "\t<tr><th></th><th scope=col>&lt;dbl&gt;</th><th scope=col>&lt;dbl&gt;</th><th scope=col>&lt;dbl&gt;</th><th scope=col>&lt;dbl&gt;</th><th scope=col>&lt;dbl&gt;</th><th scope=col>&lt;dbl&gt;</th><th scope=col>&lt;dbl&gt;</th><th scope=col>&lt;dbl&gt;</th><th scope=col>&lt;dbl&gt;</th><th scope=col>&lt;dbl&gt;</th><th scope=col>&lt;chr&gt;</th></tr>\n",
       "</thead>\n",
       "<tbody>\n",
       "\t<tr><th scope=row>ENSP00000342812.3</th><td>583</td><td>737</td><td>155</td><td>2.797106e-02</td><td> 8.00000</td><td>13</td><td>228</td><td>2555</td><td>16</td><td> 8.200000</td><td>no </td></tr>\n",
       "\t<tr><th scope=row>ENSP00000354722.2</th><td> 29</td><td>144</td><td>116</td><td>1.286883e-02</td><td>13.71429</td><td> 8</td><td>  9</td><td> 144</td><td> 8</td><td>13.714286</td><td>yes</td></tr>\n",
       "\t<tr><th scope=row>ENSP00000372499.1</th><td>373</td><td>522</td><td>150</td><td>2.510095e-02</td><td> 8.00000</td><td>13</td><td> 40</td><td> 522</td><td>14</td><td> 8.846154</td><td>no </td></tr>\n",
       "\t<tr><th scope=row>ENSP00000372105.2</th><td>227</td><td>458</td><td>232</td><td>5.658611e-03</td><td> 6.00000</td><td>17</td><td> 46</td><td> 496</td><td>31</td><td> 7.066667</td><td>yes</td></tr>\n",
       "\t<tr><th scope=row>ENSP00000371861.4</th><td>117</td><td>558</td><td>442</td><td>1.226589e-09</td><td> 3.62963</td><td>28</td><td>104</td><td> 558</td><td>96</td><td> 4.315789</td><td>no </td></tr>\n",
       "\t<tr><th scope=row>ENSP00000372154.2</th><td>227</td><td>458</td><td>232</td><td>5.658611e-03</td><td> 6.00000</td><td>17</td><td> 46</td><td> 496</td><td>31</td><td> 7.066667</td><td>yes</td></tr>\n",
       "</tbody>\n",
       "</table>\n"
      ],
      "text/latex": [
       "A data.frame: 6 × 11\n",
       "\\begin{tabular}{r|lllllllllll}\n",
       "  & start(qIDR) & end(qIDR) & length\\_IDR(qIDR) & min(p-val) & mean\\_interarrival\\_window & number\\_arom\\_window & number\\_arom\\_allseq & len\\_orig\\_seq & total\\_arom\\_number\\_qIDR & mean\\_interarrival\\_qIDR & overlap\\_metapredict\\\\\n",
       "  & <dbl> & <dbl> & <dbl> & <dbl> & <dbl> & <dbl> & <dbl> & <dbl> & <dbl> & <dbl> & <chr>\\\\\n",
       "\\hline\n",
       "\tENSP00000342812.3 & 583 & 737 & 155 & 2.797106e-02 &  8.00000 & 13 & 228 & 2555 & 16 &  8.200000 & no \\\\\n",
       "\tENSP00000354722.2 &  29 & 144 & 116 & 1.286883e-02 & 13.71429 &  8 &   9 &  144 &  8 & 13.714286 & yes\\\\\n",
       "\tENSP00000372499.1 & 373 & 522 & 150 & 2.510095e-02 &  8.00000 & 13 &  40 &  522 & 14 &  8.846154 & no \\\\\n",
       "\tENSP00000372105.2 & 227 & 458 & 232 & 5.658611e-03 &  6.00000 & 17 &  46 &  496 & 31 &  7.066667 & yes\\\\\n",
       "\tENSP00000371861.4 & 117 & 558 & 442 & 1.226589e-09 &  3.62963 & 28 & 104 &  558 & 96 &  4.315789 & no \\\\\n",
       "\tENSP00000372154.2 & 227 & 458 & 232 & 5.658611e-03 &  6.00000 & 17 &  46 &  496 & 31 &  7.066667 & yes\\\\\n",
       "\\end{tabular}\n"
      ],
      "text/markdown": [
       "\n",
       "A data.frame: 6 × 11\n",
       "\n",
       "| <!--/--> | start(qIDR) &lt;dbl&gt; | end(qIDR) &lt;dbl&gt; | length_IDR(qIDR) &lt;dbl&gt; | min(p-val) &lt;dbl&gt; | mean_interarrival_window &lt;dbl&gt; | number_arom_window &lt;dbl&gt; | number_arom_allseq &lt;dbl&gt; | len_orig_seq &lt;dbl&gt; | total_arom_number_qIDR &lt;dbl&gt; | mean_interarrival_qIDR &lt;dbl&gt; | overlap_metapredict &lt;chr&gt; |\n",
       "|---|---|---|---|---|---|---|---|---|---|---|---|\n",
       "| ENSP00000342812.3 | 583 | 737 | 155 | 2.797106e-02 |  8.00000 | 13 | 228 | 2555 | 16 |  8.200000 | no  |\n",
       "| ENSP00000354722.2 |  29 | 144 | 116 | 1.286883e-02 | 13.71429 |  8 |   9 |  144 |  8 | 13.714286 | yes |\n",
       "| ENSP00000372499.1 | 373 | 522 | 150 | 2.510095e-02 |  8.00000 | 13 |  40 |  522 | 14 |  8.846154 | no  |\n",
       "| ENSP00000372105.2 | 227 | 458 | 232 | 5.658611e-03 |  6.00000 | 17 |  46 |  496 | 31 |  7.066667 | yes |\n",
       "| ENSP00000371861.4 | 117 | 558 | 442 | 1.226589e-09 |  3.62963 | 28 | 104 |  558 | 96 |  4.315789 | no  |\n",
       "| ENSP00000372154.2 | 227 | 458 | 232 | 5.658611e-03 |  6.00000 | 17 |  46 |  496 | 31 |  7.066667 | yes |\n",
       "\n"
      ],
      "text/plain": [
       "                  start(qIDR) end(qIDR) length_IDR(qIDR) min(p-val)  \n",
       "ENSP00000342812.3 583         737       155              2.797106e-02\n",
       "ENSP00000354722.2  29         144       116              1.286883e-02\n",
       "ENSP00000372499.1 373         522       150              2.510095e-02\n",
       "ENSP00000372105.2 227         458       232              5.658611e-03\n",
       "ENSP00000371861.4 117         558       442              1.226589e-09\n",
       "ENSP00000372154.2 227         458       232              5.658611e-03\n",
       "                  mean_interarrival_window number_arom_window\n",
       "ENSP00000342812.3  8.00000                 13                \n",
       "ENSP00000354722.2 13.71429                  8                \n",
       "ENSP00000372499.1  8.00000                 13                \n",
       "ENSP00000372105.2  6.00000                 17                \n",
       "ENSP00000371861.4  3.62963                 28                \n",
       "ENSP00000372154.2  6.00000                 17                \n",
       "                  number_arom_allseq len_orig_seq total_arom_number_qIDR\n",
       "ENSP00000342812.3 228                2555         16                    \n",
       "ENSP00000354722.2   9                 144          8                    \n",
       "ENSP00000372499.1  40                 522         14                    \n",
       "ENSP00000372105.2  46                 496         31                    \n",
       "ENSP00000371861.4 104                 558         96                    \n",
       "ENSP00000372154.2  46                 496         31                    \n",
       "                  mean_interarrival_qIDR overlap_metapredict\n",
       "ENSP00000342812.3  8.200000              no                 \n",
       "ENSP00000354722.2 13.714286              yes                \n",
       "ENSP00000372499.1  8.846154              no                 \n",
       "ENSP00000372105.2  7.066667              yes                \n",
       "ENSP00000371861.4  4.315789              no                 \n",
       "ENSP00000372154.2  7.066667              yes                "
      ]
     },
     "metadata": {},
     "output_type": "display_data"
    }
   ],
   "source": [
    "dataFrame_predict <- subset(dataFrame_predict, rownames(dataFrame_predict) %in% int_keys)\n",
    "colnames(dataFrame_predict)=c(\"start(qIDR)\",\"end(qIDR)\",\"length_IDR(qIDR)\",\"min(p-val)\",\"mean_interarrival_window\",\"number_arom_window\",\"number_arom_allseq\",\"len_orig_seq\",\"total_arom_number_qIDR\",\"mean_interarrival_qIDR\")\n",
    "dataFrame_predict$overlap_metapredict=as.character(overlap_outcome)\n",
    "head(dataFrame_predict)\n"
   ]
  },
  {
   "cell_type": "code",
   "execution_count": 31,
   "metadata": {},
   "outputs": [],
   "source": [
    "dataFrame_predict$overlap_percentage_metapredict=as.character(overlapped_percentage)\n"
   ]
  },
  {
   "cell_type": "code",
   "execution_count": 32,
   "metadata": {},
   "outputs": [],
   "source": [
    "dataFrame_predict$disorder_len_total=as.character(disordered_len_total)\n"
   ]
  },
  {
   "cell_type": "markdown",
   "metadata": {},
   "source": [
    "### merge dataframes"
   ]
  },
  {
   "cell_type": "code",
   "execution_count": 35,
   "metadata": {},
   "outputs": [],
   "source": [
    "dataFrame_predict$overlap_interprot=as.character(overlap_outcome_interprot)\n"
   ]
  },
  {
   "cell_type": "code",
   "execution_count": 36,
   "metadata": {},
   "outputs": [],
   "source": [
    "dataFrame_predict$overlap_plaac=as.character(overlap_outcome_PLAAC)\n"
   ]
  },
  {
   "cell_type": "code",
   "execution_count": 37,
   "metadata": {},
   "outputs": [
    {
     "data": {
      "text/html": [
       "<table>\n",
       "<thead><tr><th></th><th scope=col>start(qIDR)</th><th scope=col>end(qIDR)</th><th scope=col>length_IDR(qIDR)</th><th scope=col>min(p-val)</th><th scope=col>mean_interarrival_window</th><th scope=col>number_arom_window</th><th scope=col>number_arom_allseq</th><th scope=col>len_orig_seq</th><th scope=col>total_arom_number_qIDR</th><th scope=col>mean_interarrival_qIDR</th><th scope=col>overlap_metapredict</th><th scope=col>overlap_percentage_metapredict</th><th scope=col>disorder_len_total</th><th scope=col>overlap_interprot</th><th scope=col>overlap_plaac</th></tr></thead>\n",
       "<tbody>\n",
       "\t<tr><th scope=row>ENSP00000342812.3</th><td>583              </td><td>737              </td><td>155              </td><td>2.797106e-02     </td><td> 8.00000         </td><td>13               </td><td>228              </td><td>2555             </td><td>16               </td><td> 8.200000        </td><td>no               </td><td>0                </td><td>173              </td><td>yes              </td><td>no               </td></tr>\n",
       "\t<tr><th scope=row>ENSP00000354722.2</th><td> 29              </td><td>144              </td><td>116              </td><td>1.286883e-02     </td><td>13.71429         </td><td> 8               </td><td>  9              </td><td> 144             </td><td> 8               </td><td>13.714286        </td><td>yes              </td><td>1                </td><td>51               </td><td>yes              </td><td>no               </td></tr>\n",
       "\t<tr><th scope=row>ENSP00000372499.1</th><td>373              </td><td>522              </td><td>150              </td><td>2.510095e-02     </td><td> 8.00000         </td><td>13               </td><td> 40              </td><td> 522             </td><td>14               </td><td> 8.846154        </td><td>no               </td><td>0                </td><td>29               </td><td>yes              </td><td>no               </td></tr>\n",
       "\t<tr><th scope=row>ENSP00000372105.2</th><td>227              </td><td>458              </td><td>232              </td><td>5.658611e-03     </td><td> 6.00000         </td><td>17               </td><td> 46              </td><td> 496             </td><td>31               </td><td> 7.066667        </td><td>yes              </td><td>0.537142857142857</td><td>394              </td><td>no               </td><td>no               </td></tr>\n",
       "\t<tr><th scope=row>ENSP00000371861.4</th><td>117              </td><td>558              </td><td>442              </td><td>1.226589e-09     </td><td> 3.62963         </td><td>28               </td><td>104              </td><td> 558             </td><td>96               </td><td> 4.315789        </td><td>no               </td><td>0                </td><td>26               </td><td>yes              </td><td>yes              </td></tr>\n",
       "\t<tr><th scope=row>ENSP00000372154.2</th><td>227              </td><td>458              </td><td>232              </td><td>5.658611e-03     </td><td> 6.00000         </td><td>17               </td><td> 46              </td><td> 496             </td><td>31               </td><td> 7.066667        </td><td>yes              </td><td>0.538461538461538</td><td>395              </td><td>no               </td><td>no               </td></tr>\n",
       "</tbody>\n",
       "</table>\n"
      ],
      "text/latex": [
       "\\begin{tabular}{r|lllllllllllllll}\n",
       "  & start(qIDR) & end(qIDR) & length\\_IDR(qIDR) & min(p-val) & mean\\_interarrival\\_window & number\\_arom\\_window & number\\_arom\\_allseq & len\\_orig\\_seq & total\\_arom\\_number\\_qIDR & mean\\_interarrival\\_qIDR & overlap\\_metapredict & overlap\\_percentage\\_metapredict & disorder\\_len\\_total & overlap\\_interprot & overlap\\_plaac\\\\\n",
       "\\hline\n",
       "\tENSP00000342812.3 & 583               & 737               & 155               & 2.797106e-02      &  8.00000          & 13                & 228               & 2555              & 16                &  8.200000         & no                & 0                 & 173               & yes               & no               \\\\\n",
       "\tENSP00000354722.2 &  29               & 144               & 116               & 1.286883e-02      & 13.71429          &  8                &   9               &  144              &  8                & 13.714286         & yes               & 1                 & 51                & yes               & no               \\\\\n",
       "\tENSP00000372499.1 & 373               & 522               & 150               & 2.510095e-02      &  8.00000          & 13                &  40               &  522              & 14                &  8.846154         & no                & 0                 & 29                & yes               & no               \\\\\n",
       "\tENSP00000372105.2 & 227               & 458               & 232               & 5.658611e-03      &  6.00000          & 17                &  46               &  496              & 31                &  7.066667         & yes               & 0.537142857142857 & 394               & no                & no               \\\\\n",
       "\tENSP00000371861.4 & 117               & 558               & 442               & 1.226589e-09      &  3.62963          & 28                & 104               &  558              & 96                &  4.315789         & no                & 0                 & 26                & yes               & yes              \\\\\n",
       "\tENSP00000372154.2 & 227               & 458               & 232               & 5.658611e-03      &  6.00000          & 17                &  46               &  496              & 31                &  7.066667         & yes               & 0.538461538461538 & 395               & no                & no               \\\\\n",
       "\\end{tabular}\n"
      ],
      "text/markdown": [
       "\n",
       "| <!--/--> | start(qIDR) | end(qIDR) | length_IDR(qIDR) | min(p-val) | mean_interarrival_window | number_arom_window | number_arom_allseq | len_orig_seq | total_arom_number_qIDR | mean_interarrival_qIDR | overlap_metapredict | overlap_percentage_metapredict | disorder_len_total | overlap_interprot | overlap_plaac |\n",
       "|---|---|---|---|---|---|---|---|---|---|---|---|---|---|---|---|\n",
       "| ENSP00000342812.3 | 583               | 737               | 155               | 2.797106e-02      |  8.00000          | 13                | 228               | 2555              | 16                |  8.200000         | no                | 0                 | 173               | yes               | no                |\n",
       "| ENSP00000354722.2 |  29               | 144               | 116               | 1.286883e-02      | 13.71429          |  8                |   9               |  144              |  8                | 13.714286         | yes               | 1                 | 51                | yes               | no                |\n",
       "| ENSP00000372499.1 | 373               | 522               | 150               | 2.510095e-02      |  8.00000          | 13                |  40               |  522              | 14                |  8.846154         | no                | 0                 | 29                | yes               | no                |\n",
       "| ENSP00000372105.2 | 227               | 458               | 232               | 5.658611e-03      |  6.00000          | 17                |  46               |  496              | 31                |  7.066667         | yes               | 0.537142857142857 | 394               | no                | no                |\n",
       "| ENSP00000371861.4 | 117               | 558               | 442               | 1.226589e-09      |  3.62963          | 28                | 104               |  558              | 96                |  4.315789         | no                | 0                 | 26                | yes               | yes               |\n",
       "| ENSP00000372154.2 | 227               | 458               | 232               | 5.658611e-03      |  6.00000          | 17                |  46               |  496              | 31                |  7.066667         | yes               | 0.538461538461538 | 395               | no                | no                |\n",
       "\n"
      ],
      "text/plain": [
       "                  start(qIDR) end(qIDR) length_IDR(qIDR) min(p-val)  \n",
       "ENSP00000342812.3 583         737       155              2.797106e-02\n",
       "ENSP00000354722.2  29         144       116              1.286883e-02\n",
       "ENSP00000372499.1 373         522       150              2.510095e-02\n",
       "ENSP00000372105.2 227         458       232              5.658611e-03\n",
       "ENSP00000371861.4 117         558       442              1.226589e-09\n",
       "ENSP00000372154.2 227         458       232              5.658611e-03\n",
       "                  mean_interarrival_window number_arom_window\n",
       "ENSP00000342812.3  8.00000                 13                \n",
       "ENSP00000354722.2 13.71429                  8                \n",
       "ENSP00000372499.1  8.00000                 13                \n",
       "ENSP00000372105.2  6.00000                 17                \n",
       "ENSP00000371861.4  3.62963                 28                \n",
       "ENSP00000372154.2  6.00000                 17                \n",
       "                  number_arom_allseq len_orig_seq total_arom_number_qIDR\n",
       "ENSP00000342812.3 228                2555         16                    \n",
       "ENSP00000354722.2   9                 144          8                    \n",
       "ENSP00000372499.1  40                 522         14                    \n",
       "ENSP00000372105.2  46                 496         31                    \n",
       "ENSP00000371861.4 104                 558         96                    \n",
       "ENSP00000372154.2  46                 496         31                    \n",
       "                  mean_interarrival_qIDR overlap_metapredict\n",
       "ENSP00000342812.3  8.200000              no                 \n",
       "ENSP00000354722.2 13.714286              yes                \n",
       "ENSP00000372499.1  8.846154              no                 \n",
       "ENSP00000372105.2  7.066667              yes                \n",
       "ENSP00000371861.4  4.315789              no                 \n",
       "ENSP00000372154.2  7.066667              yes                \n",
       "                  overlap_percentage_metapredict disorder_len_total\n",
       "ENSP00000342812.3 0                              173               \n",
       "ENSP00000354722.2 1                              51                \n",
       "ENSP00000372499.1 0                              29                \n",
       "ENSP00000372105.2 0.537142857142857              394               \n",
       "ENSP00000371861.4 0                              26                \n",
       "ENSP00000372154.2 0.538461538461538              395               \n",
       "                  overlap_interprot overlap_plaac\n",
       "ENSP00000342812.3 yes               no           \n",
       "ENSP00000354722.2 yes               no           \n",
       "ENSP00000372499.1 yes               no           \n",
       "ENSP00000372105.2 no                no           \n",
       "ENSP00000371861.4 yes               yes          \n",
       "ENSP00000372154.2 no                no           "
      ]
     },
     "metadata": {},
     "output_type": "display_data"
    }
   ],
   "source": [
    "head(dataFrame_predict)"
   ]
  },
  {
   "cell_type": "code",
   "execution_count": 38,
   "metadata": {},
   "outputs": [],
   "source": [
    "interprot_values=as.data.frame(as.matrix(interpro_indexes),rownames=FALSE)\n",
    "interprot_values$ID=rownames(interprot_values)\n"
   ]
  },
  {
   "cell_type": "code",
   "execution_count": 39,
   "metadata": {},
   "outputs": [],
   "source": [
    "rownames(interprot_values) <- NULL\n",
    "colnames(interprot_values)=c(\"interprot_region\",\"ID\")"
   ]
  },
  {
   "cell_type": "code",
   "execution_count": 40,
   "metadata": {},
   "outputs": [],
   "source": [
    "plaac_values=as.data.frame(as.matrix(PLACC_annot),rownames=FALSE)\n",
    "plaac_values$plaac_region = paste(plaac_values$PRDstart, plaac_values$PRDend, sep=\",\")\n",
    "plaac_values$ID=plaac_values$SEQid\n"
   ]
  },
  {
   "cell_type": "code",
   "execution_count": 41,
   "metadata": {},
   "outputs": [],
   "source": [
    "plaac_values=plaac_values[,c(5,6)]"
   ]
  },
  {
   "cell_type": "code",
   "execution_count": 42,
   "metadata": {},
   "outputs": [
    {
     "data": {
      "text/html": [
       "<table>\n",
       "<thead><tr><th scope=col>plaac_region</th><th scope=col>ID</th></tr></thead>\n",
       "<tbody>\n",
       "\t<tr><td> 132, 530        </td><td>ENSP00000371861.4</td></tr>\n",
       "\t<tr><td>  92, 152        </td><td>ENSP00000498344.1</td></tr>\n",
       "\t<tr><td> 297, 695        </td><td>ENSP00000508087.1</td></tr>\n",
       "\t<tr><td> 462, 716        </td><td>ENSP00000384573.1</td></tr>\n",
       "\t<tr><td> 132, 410        </td><td>ENSP00000371802.2</td></tr>\n",
       "\t<tr><td> 312, 402        </td><td>ENSP00000286835.7</td></tr>\n",
       "</tbody>\n",
       "</table>\n"
      ],
      "text/latex": [
       "\\begin{tabular}{r|ll}\n",
       " plaac\\_region & ID\\\\\n",
       "\\hline\n",
       "\t  132, 530         & ENSP00000371861.4\\\\\n",
       "\t   92, 152         & ENSP00000498344.1\\\\\n",
       "\t  297, 695         & ENSP00000508087.1\\\\\n",
       "\t  462, 716         & ENSP00000384573.1\\\\\n",
       "\t  132, 410         & ENSP00000371802.2\\\\\n",
       "\t  312, 402         & ENSP00000286835.7\\\\\n",
       "\\end{tabular}\n"
      ],
      "text/markdown": [
       "\n",
       "| plaac_region | ID |\n",
       "|---|---|\n",
       "|  132, 530         | ENSP00000371861.4 |\n",
       "|   92, 152         | ENSP00000498344.1 |\n",
       "|  297, 695         | ENSP00000508087.1 |\n",
       "|  462, 716         | ENSP00000384573.1 |\n",
       "|  132, 410         | ENSP00000371802.2 |\n",
       "|  312, 402         | ENSP00000286835.7 |\n",
       "\n"
      ],
      "text/plain": [
       "  plaac_region ID               \n",
       "1  132, 530    ENSP00000371861.4\n",
       "2   92, 152    ENSP00000498344.1\n",
       "3  297, 695    ENSP00000508087.1\n",
       "4  462, 716    ENSP00000384573.1\n",
       "5  132, 410    ENSP00000371802.2\n",
       "6  312, 402    ENSP00000286835.7"
      ]
     },
     "metadata": {},
     "output_type": "display_data"
    }
   ],
   "source": [
    "head(plaac_values)"
   ]
  },
  {
   "cell_type": "markdown",
   "metadata": {},
   "source": [
    "### add gene IDs"
   ]
  },
  {
   "cell_type": "code",
   "execution_count": 43,
   "metadata": {},
   "outputs": [],
   "source": [
    "data= read.csv(\"./HG38_pep/HG30_pep_annotation.csv\", stringsAsFactors = FALSE)\n"
   ]
  },
  {
   "cell_type": "code",
   "execution_count": 45,
   "metadata": {},
   "outputs": [],
   "source": []
  },
  {
   "cell_type": "code",
   "execution_count": 46,
   "metadata": {},
   "outputs": [],
   "source": [
    "combined=dataFrame_predict\n",
    "d <- combined\n",
    "names <- rownames(d)\n",
    "rownames(d) <- NULL\n",
    "data2 <- cbind(names,d)\n",
    "combined=data2\n",
    "colnames(combined)[1]=\"ID\""
   ]
  },
  {
   "cell_type": "code",
   "execution_count": 49,
   "metadata": {},
   "outputs": [
    {
     "data": {
      "text/html": [
       "<table>\n",
       "<thead><tr><th scope=col>ID</th><th scope=col>start(qIDR)</th><th scope=col>end(qIDR)</th><th scope=col>length_IDR(qIDR)</th><th scope=col>min(p-val)</th><th scope=col>mean_interarrival_window</th><th scope=col>number_arom_window</th><th scope=col>number_arom_allseq</th><th scope=col>len_orig_seq</th><th scope=col>total_arom_number_qIDR</th><th scope=col>mean_interarrival_qIDR</th><th scope=col>overlap_metapredict</th><th scope=col>overlap_percentage_metapredict</th><th scope=col>disorder_len_total</th><th scope=col>overlap_interprot</th><th scope=col>overlap_plaac</th></tr></thead>\n",
       "<tbody>\n",
       "\t<tr><td>ENSP00000342812.3</td><td>583              </td><td>737              </td><td>155              </td><td>2.797106e-02     </td><td> 8.00000         </td><td>13               </td><td>228              </td><td>2555             </td><td>16               </td><td> 8.200000        </td><td>no               </td><td>0                </td><td>173              </td><td>yes              </td><td>no               </td></tr>\n",
       "\t<tr><td>ENSP00000354722.2</td><td> 29              </td><td>144              </td><td>116              </td><td>1.286883e-02     </td><td>13.71429         </td><td> 8               </td><td>  9              </td><td> 144             </td><td> 8               </td><td>13.714286        </td><td>yes              </td><td>1                </td><td>51               </td><td>yes              </td><td>no               </td></tr>\n",
       "\t<tr><td>ENSP00000372499.1</td><td>373              </td><td>522              </td><td>150              </td><td>2.510095e-02     </td><td> 8.00000         </td><td>13               </td><td> 40              </td><td> 522             </td><td>14               </td><td> 8.846154        </td><td>no               </td><td>0                </td><td>29               </td><td>yes              </td><td>no               </td></tr>\n",
       "\t<tr><td>ENSP00000372105.2</td><td>227              </td><td>458              </td><td>232              </td><td>5.658611e-03     </td><td> 6.00000         </td><td>17               </td><td> 46              </td><td> 496             </td><td>31               </td><td> 7.066667        </td><td>yes              </td><td>0.537142857142857</td><td>394              </td><td>no               </td><td>no               </td></tr>\n",
       "\t<tr><td>ENSP00000371861.4</td><td>117              </td><td>558              </td><td>442              </td><td>1.226589e-09     </td><td> 3.62963         </td><td>28               </td><td>104              </td><td> 558             </td><td>96               </td><td> 4.315789        </td><td>no               </td><td>0                </td><td>26               </td><td>yes              </td><td>yes              </td></tr>\n",
       "\t<tr><td>ENSP00000372154.2</td><td>227              </td><td>458              </td><td>232              </td><td>5.658611e-03     </td><td> 6.00000         </td><td>17               </td><td> 46              </td><td> 496             </td><td>31               </td><td> 7.066667        </td><td>yes              </td><td>0.538461538461538</td><td>395              </td><td>no               </td><td>no               </td></tr>\n",
       "</tbody>\n",
       "</table>\n"
      ],
      "text/latex": [
       "\\begin{tabular}{r|llllllllllllllll}\n",
       " ID & start(qIDR) & end(qIDR) & length\\_IDR(qIDR) & min(p-val) & mean\\_interarrival\\_window & number\\_arom\\_window & number\\_arom\\_allseq & len\\_orig\\_seq & total\\_arom\\_number\\_qIDR & mean\\_interarrival\\_qIDR & overlap\\_metapredict & overlap\\_percentage\\_metapredict & disorder\\_len\\_total & overlap\\_interprot & overlap\\_plaac\\\\\n",
       "\\hline\n",
       "\t ENSP00000342812.3 & 583               & 737               & 155               & 2.797106e-02      &  8.00000          & 13                & 228               & 2555              & 16                &  8.200000         & no                & 0                 & 173               & yes               & no               \\\\\n",
       "\t ENSP00000354722.2 &  29               & 144               & 116               & 1.286883e-02      & 13.71429          &  8                &   9               &  144              &  8                & 13.714286         & yes               & 1                 & 51                & yes               & no               \\\\\n",
       "\t ENSP00000372499.1 & 373               & 522               & 150               & 2.510095e-02      &  8.00000          & 13                &  40               &  522              & 14                &  8.846154         & no                & 0                 & 29                & yes               & no               \\\\\n",
       "\t ENSP00000372105.2 & 227               & 458               & 232               & 5.658611e-03      &  6.00000          & 17                &  46               &  496              & 31                &  7.066667         & yes               & 0.537142857142857 & 394               & no                & no               \\\\\n",
       "\t ENSP00000371861.4 & 117               & 558               & 442               & 1.226589e-09      &  3.62963          & 28                & 104               &  558              & 96                &  4.315789         & no                & 0                 & 26                & yes               & yes              \\\\\n",
       "\t ENSP00000372154.2 & 227               & 458               & 232               & 5.658611e-03      &  6.00000          & 17                &  46               &  496              & 31                &  7.066667         & yes               & 0.538461538461538 & 395               & no                & no               \\\\\n",
       "\\end{tabular}\n"
      ],
      "text/markdown": [
       "\n",
       "| ID | start(qIDR) | end(qIDR) | length_IDR(qIDR) | min(p-val) | mean_interarrival_window | number_arom_window | number_arom_allseq | len_orig_seq | total_arom_number_qIDR | mean_interarrival_qIDR | overlap_metapredict | overlap_percentage_metapredict | disorder_len_total | overlap_interprot | overlap_plaac |\n",
       "|---|---|---|---|---|---|---|---|---|---|---|---|---|---|---|---|\n",
       "| ENSP00000342812.3 | 583               | 737               | 155               | 2.797106e-02      |  8.00000          | 13                | 228               | 2555              | 16                |  8.200000         | no                | 0                 | 173               | yes               | no                |\n",
       "| ENSP00000354722.2 |  29               | 144               | 116               | 1.286883e-02      | 13.71429          |  8                |   9               |  144              |  8                | 13.714286         | yes               | 1                 | 51                | yes               | no                |\n",
       "| ENSP00000372499.1 | 373               | 522               | 150               | 2.510095e-02      |  8.00000          | 13                |  40               |  522              | 14                |  8.846154         | no                | 0                 | 29                | yes               | no                |\n",
       "| ENSP00000372105.2 | 227               | 458               | 232               | 5.658611e-03      |  6.00000          | 17                |  46               |  496              | 31                |  7.066667         | yes               | 0.537142857142857 | 394               | no                | no                |\n",
       "| ENSP00000371861.4 | 117               | 558               | 442               | 1.226589e-09      |  3.62963          | 28                | 104               |  558              | 96                |  4.315789         | no                | 0                 | 26                | yes               | yes               |\n",
       "| ENSP00000372154.2 | 227               | 458               | 232               | 5.658611e-03      |  6.00000          | 17                |  46               |  496              | 31                |  7.066667         | yes               | 0.538461538461538 | 395               | no                | no                |\n",
       "\n"
      ],
      "text/plain": [
       "  ID                start(qIDR) end(qIDR) length_IDR(qIDR) min(p-val)  \n",
       "1 ENSP00000342812.3 583         737       155              2.797106e-02\n",
       "2 ENSP00000354722.2  29         144       116              1.286883e-02\n",
       "3 ENSP00000372499.1 373         522       150              2.510095e-02\n",
       "4 ENSP00000372105.2 227         458       232              5.658611e-03\n",
       "5 ENSP00000371861.4 117         558       442              1.226589e-09\n",
       "6 ENSP00000372154.2 227         458       232              5.658611e-03\n",
       "  mean_interarrival_window number_arom_window number_arom_allseq len_orig_seq\n",
       "1  8.00000                 13                 228                2555        \n",
       "2 13.71429                  8                   9                 144        \n",
       "3  8.00000                 13                  40                 522        \n",
       "4  6.00000                 17                  46                 496        \n",
       "5  3.62963                 28                 104                 558        \n",
       "6  6.00000                 17                  46                 496        \n",
       "  total_arom_number_qIDR mean_interarrival_qIDR overlap_metapredict\n",
       "1 16                      8.200000              no                 \n",
       "2  8                     13.714286              yes                \n",
       "3 14                      8.846154              no                 \n",
       "4 31                      7.066667              yes                \n",
       "5 96                      4.315789              no                 \n",
       "6 31                      7.066667              yes                \n",
       "  overlap_percentage_metapredict disorder_len_total overlap_interprot\n",
       "1 0                              173                yes              \n",
       "2 1                              51                 yes              \n",
       "3 0                              29                 yes              \n",
       "4 0.537142857142857              394                no               \n",
       "5 0                              26                 yes              \n",
       "6 0.538461538461538              395                no               \n",
       "  overlap_plaac\n",
       "1 no           \n",
       "2 no           \n",
       "3 no           \n",
       "4 no           \n",
       "5 yes          \n",
       "6 no           "
      ]
     },
     "metadata": {},
     "output_type": "display_data"
    }
   ],
   "source": [
    "head(combined)"
   ]
  },
  {
   "cell_type": "code",
   "execution_count": 50,
   "metadata": {},
   "outputs": [],
   "source": [
    "namesofProt=data[data$ID %in% combined$ID,c(\"gene_symbol\",\"ID\")]"
   ]
  },
  {
   "cell_type": "code",
   "execution_count": 51,
   "metadata": {},
   "outputs": [],
   "source": [
    "combined_annot=(merge(combined, namesofProt, by = \"ID\"))                     # Merge data according to row namesroq"
   ]
  },
  {
   "cell_type": "code",
   "execution_count": 52,
   "metadata": {},
   "outputs": [
    {
     "data": {
      "text/html": [
       "<table>\n",
       "<thead><tr><th scope=col>ID</th><th scope=col>start(qIDR)</th><th scope=col>end(qIDR)</th><th scope=col>length_IDR(qIDR)</th><th scope=col>min(p-val)</th><th scope=col>mean_interarrival_window</th><th scope=col>number_arom_window</th><th scope=col>number_arom_allseq</th><th scope=col>len_orig_seq</th><th scope=col>total_arom_number_qIDR</th><th scope=col>mean_interarrival_qIDR</th><th scope=col>overlap_metapredict</th><th scope=col>overlap_percentage_metapredict</th><th scope=col>disorder_len_total</th><th scope=col>overlap_interprot</th><th scope=col>overlap_plaac</th><th scope=col>gene_symbol</th></tr></thead>\n",
       "<tbody>\n",
       "\t<tr><td>ENSP00000000412.3</td><td>109              </td><td>209              </td><td>101              </td><td>0.31750221       </td><td> 9.600000        </td><td>11               </td><td>27               </td><td> 277             </td><td>11               </td><td> 9.600000        </td><td>no               </td><td>0                </td><td>22               </td><td>yes              </td><td>no               </td><td>M6PR             </td></tr>\n",
       "\t<tr><td>ENSP00000000442.6</td><td> 13              </td><td>135              </td><td>123              </td><td>0.12688509       </td><td> 4.666667        </td><td> 4               </td><td>21               </td><td> 423             </td><td> 5               </td><td> 6.000000        </td><td>yes              </td><td>0.818181818181818</td><td>66               </td><td>yes              </td><td>no               </td><td>ESRRA            </td></tr>\n",
       "\t<tr><td>ENSP00000001008.4</td><td>153              </td><td>282              </td><td>130              </td><td>0.04322908       </td><td> 8.166667        </td><td>13               </td><td>39               </td><td> 459             </td><td>15               </td><td> 8.571429        </td><td>no               </td><td>0                </td><td>63               </td><td>yes              </td><td>no               </td><td>FKBP4            </td></tr>\n",
       "\t<tr><td>ENSP00000002829.3</td><td> 39              </td><td>175              </td><td>137              </td><td>0.01490606       </td><td>10.444444        </td><td>10               </td><td>74               </td><td> 785             </td><td>13               </td><td> 9.083333        </td><td>no               </td><td>0                </td><td>34               </td><td>yes              </td><td>no               </td><td>SEMA3F           </td></tr>\n",
       "\t<tr><td>ENSP00000003302.4</td><td>147              </td><td>285              </td><td>139              </td><td>0.02580273       </td><td> 8.909091        </td><td>12               </td><td>88               </td><td>1077             </td><td>15               </td><td> 8.357143        </td><td>no               </td><td>0                </td><td>101              </td><td>yes              </td><td>no               </td><td>USP28            </td></tr>\n",
       "\t<tr><td>ENSP00000005226.7</td><td>667              </td><td>825              </td><td>159              </td><td>0.03720216       </td><td> 5.375000        </td><td> 9               </td><td>56               </td><td> 899             </td><td>12               </td><td>12.727273        </td><td>yes              </td><td>0.115384615384615</td><td>182              </td><td>yes              </td><td>no               </td><td>USH1C            </td></tr>\n",
       "</tbody>\n",
       "</table>\n"
      ],
      "text/latex": [
       "\\begin{tabular}{r|lllllllllllllllll}\n",
       " ID & start(qIDR) & end(qIDR) & length\\_IDR(qIDR) & min(p-val) & mean\\_interarrival\\_window & number\\_arom\\_window & number\\_arom\\_allseq & len\\_orig\\_seq & total\\_arom\\_number\\_qIDR & mean\\_interarrival\\_qIDR & overlap\\_metapredict & overlap\\_percentage\\_metapredict & disorder\\_len\\_total & overlap\\_interprot & overlap\\_plaac & gene\\_symbol\\\\\n",
       "\\hline\n",
       "\t ENSP00000000412.3 & 109               & 209               & 101               & 0.31750221        &  9.600000         & 11                & 27                &  277              & 11                &  9.600000         & no                & 0                 & 22                & yes               & no                & M6PR             \\\\\n",
       "\t ENSP00000000442.6 &  13               & 135               & 123               & 0.12688509        &  4.666667         &  4                & 21                &  423              &  5                &  6.000000         & yes               & 0.818181818181818 & 66                & yes               & no                & ESRRA            \\\\\n",
       "\t ENSP00000001008.4 & 153               & 282               & 130               & 0.04322908        &  8.166667         & 13                & 39                &  459              & 15                &  8.571429         & no                & 0                 & 63                & yes               & no                & FKBP4            \\\\\n",
       "\t ENSP00000002829.3 &  39               & 175               & 137               & 0.01490606        & 10.444444         & 10                & 74                &  785              & 13                &  9.083333         & no                & 0                 & 34                & yes               & no                & SEMA3F           \\\\\n",
       "\t ENSP00000003302.4 & 147               & 285               & 139               & 0.02580273        &  8.909091         & 12                & 88                & 1077              & 15                &  8.357143         & no                & 0                 & 101               & yes               & no                & USP28            \\\\\n",
       "\t ENSP00000005226.7 & 667               & 825               & 159               & 0.03720216        &  5.375000         &  9                & 56                &  899              & 12                & 12.727273         & yes               & 0.115384615384615 & 182               & yes               & no                & USH1C            \\\\\n",
       "\\end{tabular}\n"
      ],
      "text/markdown": [
       "\n",
       "| ID | start(qIDR) | end(qIDR) | length_IDR(qIDR) | min(p-val) | mean_interarrival_window | number_arom_window | number_arom_allseq | len_orig_seq | total_arom_number_qIDR | mean_interarrival_qIDR | overlap_metapredict | overlap_percentage_metapredict | disorder_len_total | overlap_interprot | overlap_plaac | gene_symbol |\n",
       "|---|---|---|---|---|---|---|---|---|---|---|---|---|---|---|---|---|\n",
       "| ENSP00000000412.3 | 109               | 209               | 101               | 0.31750221        |  9.600000         | 11                | 27                |  277              | 11                |  9.600000         | no                | 0                 | 22                | yes               | no                | M6PR              |\n",
       "| ENSP00000000442.6 |  13               | 135               | 123               | 0.12688509        |  4.666667         |  4                | 21                |  423              |  5                |  6.000000         | yes               | 0.818181818181818 | 66                | yes               | no                | ESRRA             |\n",
       "| ENSP00000001008.4 | 153               | 282               | 130               | 0.04322908        |  8.166667         | 13                | 39                |  459              | 15                |  8.571429         | no                | 0                 | 63                | yes               | no                | FKBP4             |\n",
       "| ENSP00000002829.3 |  39               | 175               | 137               | 0.01490606        | 10.444444         | 10                | 74                |  785              | 13                |  9.083333         | no                | 0                 | 34                | yes               | no                | SEMA3F            |\n",
       "| ENSP00000003302.4 | 147               | 285               | 139               | 0.02580273        |  8.909091         | 12                | 88                | 1077              | 15                |  8.357143         | no                | 0                 | 101               | yes               | no                | USP28             |\n",
       "| ENSP00000005226.7 | 667               | 825               | 159               | 0.03720216        |  5.375000         |  9                | 56                |  899              | 12                | 12.727273         | yes               | 0.115384615384615 | 182               | yes               | no                | USH1C             |\n",
       "\n"
      ],
      "text/plain": [
       "  ID                start(qIDR) end(qIDR) length_IDR(qIDR) min(p-val)\n",
       "1 ENSP00000000412.3 109         209       101              0.31750221\n",
       "2 ENSP00000000442.6  13         135       123              0.12688509\n",
       "3 ENSP00000001008.4 153         282       130              0.04322908\n",
       "4 ENSP00000002829.3  39         175       137              0.01490606\n",
       "5 ENSP00000003302.4 147         285       139              0.02580273\n",
       "6 ENSP00000005226.7 667         825       159              0.03720216\n",
       "  mean_interarrival_window number_arom_window number_arom_allseq len_orig_seq\n",
       "1  9.600000                11                 27                  277        \n",
       "2  4.666667                 4                 21                  423        \n",
       "3  8.166667                13                 39                  459        \n",
       "4 10.444444                10                 74                  785        \n",
       "5  8.909091                12                 88                 1077        \n",
       "6  5.375000                 9                 56                  899        \n",
       "  total_arom_number_qIDR mean_interarrival_qIDR overlap_metapredict\n",
       "1 11                      9.600000              no                 \n",
       "2  5                      6.000000              yes                \n",
       "3 15                      8.571429              no                 \n",
       "4 13                      9.083333              no                 \n",
       "5 15                      8.357143              no                 \n",
       "6 12                     12.727273              yes                \n",
       "  overlap_percentage_metapredict disorder_len_total overlap_interprot\n",
       "1 0                              22                 yes              \n",
       "2 0.818181818181818              66                 yes              \n",
       "3 0                              63                 yes              \n",
       "4 0                              34                 yes              \n",
       "5 0                              101                yes              \n",
       "6 0.115384615384615              182                yes              \n",
       "  overlap_plaac gene_symbol\n",
       "1 no            M6PR       \n",
       "2 no            ESRRA      \n",
       "3 no            FKBP4      \n",
       "4 no            SEMA3F     \n",
       "5 no            USP28      \n",
       "6 no            USH1C      "
      ]
     },
     "metadata": {},
     "output_type": "display_data"
    }
   ],
   "source": [
    "head(combined_annot)"
   ]
  },
  {
   "cell_type": "code",
   "execution_count": 53,
   "metadata": {},
   "outputs": [],
   "source": [
    "#order based on p-value\n",
    "df <-combined_annot[order(combined_annot$'min(p-val)'),]"
   ]
  },
  {
   "cell_type": "code",
   "execution_count": 55,
   "metadata": {},
   "outputs": [
    {
     "data": {
      "text/html": [
       "<table>\n",
       "<thead><tr><th></th><th scope=col>ID</th><th scope=col>start(qIDR)</th><th scope=col>end(qIDR)</th><th scope=col>length_IDR(qIDR)</th><th scope=col>min(p-val)</th><th scope=col>mean_interarrival_window</th><th scope=col>number_arom_window</th><th scope=col>number_arom_allseq</th><th scope=col>len_orig_seq</th><th scope=col>total_arom_number_qIDR</th><th scope=col>mean_interarrival_qIDR</th><th scope=col>overlap_metapredict</th><th scope=col>overlap_percentage_metapredict</th><th scope=col>disorder_len_total</th><th scope=col>overlap_interprot</th><th scope=col>overlap_plaac</th><th scope=col>gene_symbol</th></tr></thead>\n",
       "<tbody>\n",
       "\t<tr><th scope=row>6124</th><td>ENSP00000371861.4</td><td>117              </td><td>558              </td><td>442              </td><td>1.226589e-09     </td><td>3.629630         </td><td>28               </td><td>104              </td><td> 558             </td><td>96               </td><td>4.315789         </td><td>no               </td><td>0                </td><td>26               </td><td>yes              </td><td>yes              </td><td>DAZ2             </td></tr>\n",
       "\t<tr><th scope=row>6763</th><td>ENSP00000384573.1</td><td>442              </td><td>744              </td><td>303              </td><td>1.226589e-09     </td><td>3.629630         </td><td>28               </td><td> 91              </td><td> 744             </td><td>61               </td><td>4.433333         </td><td>no               </td><td>0                </td><td>84               </td><td>yes              </td><td>yes              </td><td>DAZ1             </td></tr>\n",
       "\t<tr><th scope=row>9380</th><td>ENSP00000508087.1</td><td>279              </td><td>723              </td><td>445              </td><td>1.226589e-09     </td><td>3.629630         </td><td>28               </td><td>116              </td><td> 723             </td><td>97               </td><td>4.270833         </td><td>no               </td><td>0                </td><td>55               </td><td>yes              </td><td>yes              </td><td>DAZ4             </td></tr>\n",
       "\t<tr><th scope=row>6119</th><td>ENSP00000371802.2</td><td>117              </td><td>438              </td><td>322              </td><td>7.424618e-09     </td><td>3.769231         </td><td>27               </td><td> 74              </td><td> 438             </td><td>66               </td><td>4.461538         </td><td>no               </td><td>0                </td><td>26               </td><td>yes              </td><td>yes              </td><td>DAZ3             </td></tr>\n",
       "\t<tr><th scope=row>6431</th><td>ENSP00000378507.4</td><td>  1              </td><td>213              </td><td>213              </td><td>1.780978e-08     </td><td>5.500000         </td><td>19               </td><td> 57              </td><td> 371             </td><td>37               </td><td>5.583333         </td><td>yes              </td><td>1                </td><td>139              </td><td>yes              </td><td>yes              </td><td>GRINA            </td></tr>\n",
       "\t<tr><th scope=row>8966</th><td>ENSP00000495481.1</td><td>146              </td><td>471              </td><td>326              </td><td>3.303475e-08     </td><td>3.161290         </td><td>32               </td><td>316              </td><td>3530             </td><td>64               </td><td>4.746032         </td><td>no               </td><td>0                </td><td>684              </td><td>no               </td><td>no               </td><td>MYO15A           </td></tr>\n",
       "</tbody>\n",
       "</table>\n"
      ],
      "text/latex": [
       "\\begin{tabular}{r|lllllllllllllllll}\n",
       "  & ID & start(qIDR) & end(qIDR) & length\\_IDR(qIDR) & min(p-val) & mean\\_interarrival\\_window & number\\_arom\\_window & number\\_arom\\_allseq & len\\_orig\\_seq & total\\_arom\\_number\\_qIDR & mean\\_interarrival\\_qIDR & overlap\\_metapredict & overlap\\_percentage\\_metapredict & disorder\\_len\\_total & overlap\\_interprot & overlap\\_plaac & gene\\_symbol\\\\\n",
       "\\hline\n",
       "\t6124 & ENSP00000371861.4 & 117               & 558               & 442               & 1.226589e-09      & 3.629630          & 28                & 104               &  558              & 96                & 4.315789          & no                & 0                 & 26                & yes               & yes               & DAZ2             \\\\\n",
       "\t6763 & ENSP00000384573.1 & 442               & 744               & 303               & 1.226589e-09      & 3.629630          & 28                &  91               &  744              & 61                & 4.433333          & no                & 0                 & 84                & yes               & yes               & DAZ1             \\\\\n",
       "\t9380 & ENSP00000508087.1 & 279               & 723               & 445               & 1.226589e-09      & 3.629630          & 28                & 116               &  723              & 97                & 4.270833          & no                & 0                 & 55                & yes               & yes               & DAZ4             \\\\\n",
       "\t6119 & ENSP00000371802.2 & 117               & 438               & 322               & 7.424618e-09      & 3.769231          & 27                &  74               &  438              & 66                & 4.461538          & no                & 0                 & 26                & yes               & yes               & DAZ3             \\\\\n",
       "\t6431 & ENSP00000378507.4 &   1               & 213               & 213               & 1.780978e-08      & 5.500000          & 19                &  57               &  371              & 37                & 5.583333          & yes               & 1                 & 139               & yes               & yes               & GRINA            \\\\\n",
       "\t8966 & ENSP00000495481.1 & 146               & 471               & 326               & 3.303475e-08      & 3.161290          & 32                & 316               & 3530              & 64                & 4.746032          & no                & 0                 & 684               & no                & no                & MYO15A           \\\\\n",
       "\\end{tabular}\n"
      ],
      "text/markdown": [
       "\n",
       "| <!--/--> | ID | start(qIDR) | end(qIDR) | length_IDR(qIDR) | min(p-val) | mean_interarrival_window | number_arom_window | number_arom_allseq | len_orig_seq | total_arom_number_qIDR | mean_interarrival_qIDR | overlap_metapredict | overlap_percentage_metapredict | disorder_len_total | overlap_interprot | overlap_plaac | gene_symbol |\n",
       "|---|---|---|---|---|---|---|---|---|---|---|---|---|---|---|---|---|---|\n",
       "| 6124 | ENSP00000371861.4 | 117               | 558               | 442               | 1.226589e-09      | 3.629630          | 28                | 104               |  558              | 96                | 4.315789          | no                | 0                 | 26                | yes               | yes               | DAZ2              |\n",
       "| 6763 | ENSP00000384573.1 | 442               | 744               | 303               | 1.226589e-09      | 3.629630          | 28                |  91               |  744              | 61                | 4.433333          | no                | 0                 | 84                | yes               | yes               | DAZ1              |\n",
       "| 9380 | ENSP00000508087.1 | 279               | 723               | 445               | 1.226589e-09      | 3.629630          | 28                | 116               |  723              | 97                | 4.270833          | no                | 0                 | 55                | yes               | yes               | DAZ4              |\n",
       "| 6119 | ENSP00000371802.2 | 117               | 438               | 322               | 7.424618e-09      | 3.769231          | 27                |  74               |  438              | 66                | 4.461538          | no                | 0                 | 26                | yes               | yes               | DAZ3              |\n",
       "| 6431 | ENSP00000378507.4 |   1               | 213               | 213               | 1.780978e-08      | 5.500000          | 19                |  57               |  371              | 37                | 5.583333          | yes               | 1                 | 139               | yes               | yes               | GRINA             |\n",
       "| 8966 | ENSP00000495481.1 | 146               | 471               | 326               | 3.303475e-08      | 3.161290          | 32                | 316               | 3530              | 64                | 4.746032          | no                | 0                 | 684               | no                | no                | MYO15A            |\n",
       "\n"
      ],
      "text/plain": [
       "     ID                start(qIDR) end(qIDR) length_IDR(qIDR) min(p-val)  \n",
       "6124 ENSP00000371861.4 117         558       442              1.226589e-09\n",
       "6763 ENSP00000384573.1 442         744       303              1.226589e-09\n",
       "9380 ENSP00000508087.1 279         723       445              1.226589e-09\n",
       "6119 ENSP00000371802.2 117         438       322              7.424618e-09\n",
       "6431 ENSP00000378507.4   1         213       213              1.780978e-08\n",
       "8966 ENSP00000495481.1 146         471       326              3.303475e-08\n",
       "     mean_interarrival_window number_arom_window number_arom_allseq\n",
       "6124 3.629630                 28                 104               \n",
       "6763 3.629630                 28                  91               \n",
       "9380 3.629630                 28                 116               \n",
       "6119 3.769231                 27                  74               \n",
       "6431 5.500000                 19                  57               \n",
       "8966 3.161290                 32                 316               \n",
       "     len_orig_seq total_arom_number_qIDR mean_interarrival_qIDR\n",
       "6124  558         96                     4.315789              \n",
       "6763  744         61                     4.433333              \n",
       "9380  723         97                     4.270833              \n",
       "6119  438         66                     4.461538              \n",
       "6431  371         37                     5.583333              \n",
       "8966 3530         64                     4.746032              \n",
       "     overlap_metapredict overlap_percentage_metapredict disorder_len_total\n",
       "6124 no                  0                              26                \n",
       "6763 no                  0                              84                \n",
       "9380 no                  0                              55                \n",
       "6119 no                  0                              26                \n",
       "6431 yes                 1                              139               \n",
       "8966 no                  0                              684               \n",
       "     overlap_interprot overlap_plaac gene_symbol\n",
       "6124 yes               yes           DAZ2       \n",
       "6763 yes               yes           DAZ1       \n",
       "9380 yes               yes           DAZ4       \n",
       "6119 yes               yes           DAZ3       \n",
       "6431 yes               yes           GRINA      \n",
       "8966 no                no            MYO15A     "
      ]
     },
     "metadata": {},
     "output_type": "display_data"
    }
   ],
   "source": [
    "head(df)"
   ]
  },
  {
   "cell_type": "code",
   "execution_count": null,
   "metadata": {},
   "outputs": [],
   "source": [
    "## add repeat strength of proteins to the table"
   ]
  },
  {
   "cell_type": "code",
   "execution_count": 57,
   "metadata": {},
   "outputs": [],
   "source": [
    "\n",
    "\n",
    "repeat_output<- fromJSON(\"./repeats/repeat_output_humanproteom.json\")\n"
   ]
  },
  {
   "cell_type": "code",
   "execution_count": 58,
   "metadata": {},
   "outputs": [],
   "source": [
    "dataFrame_repeat <- transpose(as.data.frame(repeat_output))\n"
   ]
  },
  {
   "cell_type": "code",
   "execution_count": 59,
   "metadata": {},
   "outputs": [],
   "source": [
    "dataFrame_repeat$ID=names(repeat_output)\n"
   ]
  },
  {
   "cell_type": "code",
   "execution_count": 60,
   "metadata": {},
   "outputs": [],
   "source": [
    "colnames(dataFrame_repeat)=c(\"repeat_strength\",\"ID\")"
   ]
  },
  {
   "cell_type": "code",
   "execution_count": 61,
   "metadata": {},
   "outputs": [],
   "source": [
    "metapredict_values=as.data.frame(as.matrix(json_data_metapredict),rownames=FALSE)\n",
    "metapredict_values$ID=rownames(metapredict_values)\n",
    "rownames(metapredict_values) <- NULL"
   ]
  },
  {
   "cell_type": "code",
   "execution_count": 62,
   "metadata": {},
   "outputs": [],
   "source": [
    "colnames(metapredict_values)=c(\"metapredict_IDR_region\",\"ID\")"
   ]
  },
  {
   "cell_type": "code",
   "execution_count": 64,
   "metadata": {},
   "outputs": [],
   "source": [
    "merged_df=merge(df, dataFrame_repeat, by=\"ID\") # NA's match\n"
   ]
  },
  {
   "cell_type": "code",
   "execution_count": 66,
   "metadata": {},
   "outputs": [],
   "source": [
    "merged_df_2=merge(merged_df, metapredict_values, by=\"ID\") # NA's match\n"
   ]
  },
  {
   "cell_type": "code",
   "execution_count": 68,
   "metadata": {},
   "outputs": [],
   "source": [
    "df_list <- list(merged_df_2, interprot_values, plaac_values)\n",
    "df_all_merged=Reduce(function(x, y) merge(x, y, by=\"ID\", all.x = TRUE), df_list, accumulate=FALSE)"
   ]
  },
  {
   "cell_type": "code",
   "execution_count": 70,
   "metadata": {},
   "outputs": [],
   "source": [
    "merged_df_2 <- df_all_merged[order(df_all_merged$`min(p-val)`),] \n",
    "\n",
    "merged_df_2$rank=seq(1,length(merged_df_2$ID))"
   ]
  },
  {
   "cell_type": "code",
   "execution_count": 73,
   "metadata": {},
   "outputs": [],
   "source": [
    "merged_df_2$fract_arom=as.numeric(merged_df_2$number_arom_allseq)/as.numeric(merged_df_2$len_orig_seq)"
   ]
  },
  {
   "cell_type": "code",
   "execution_count": 75,
   "metadata": {},
   "outputs": [],
   "source": [
    "merged_df_2$metapredict_IDR_region <- as.character(merged_df_2$metapredict_IDR_region)"
   ]
  },
  {
   "cell_type": "markdown",
   "metadata": {},
   "source": [
    "### add annotation for PLDs, TFs and RNA binding proteins "
   ]
  },
  {
   "cell_type": "code",
   "execution_count": 78,
   "metadata": {},
   "outputs": [],
   "source": [
    "TFs_annot= read.csv(\"./TFs/AnnotationTFs.csv\", stringsAsFactors = FALSE)\n"
   ]
  },
  {
   "cell_type": "code",
   "execution_count": 80,
   "metadata": {},
   "outputs": [
    {
     "data": {
      "text/html": [
       "<table>\n",
       "<thead><tr><th scope=col>UNIQUE</th><th scope=col>ID</th><th scope=col>Name</th><th scope=col>Description</th><th scope=col>MEF.IC</th><th scope=col>mESC.nIC</th><th scope=col>RAW264.7.IC</th><th scope=col>mESC.IC</th><th scope=col>HL.1.IC</th><th scope=col>HL.1.RBDmap</th><th scope=col>Enzyme</th><th scope=col>Metabolism</th><th scope=col>X.Metabolic.Enzyme.</th></tr></thead>\n",
       "<tbody>\n",
       "\t<tr><td>                                     </td><td>                                     </td><td>                                     </td><td>                                     </td><td>Mm_Boucas2015                        </td><td>Mm_He2016                            </td><td>Mm_Liepelt2016                       </td><td>Mm_Kwon2013                          </td><td>Mm_Liao2016_IC                       </td><td>Mm_Liao2016_RBDmap                   </td><td>   NA                                </td><td>   NA                                </td><td>   NA                                </td></tr>\n",
       "\t<tr><td>0610030E20Rik                        </td><td>ENSMUSG00000058706;ENSMUSG00000108680</td><td>0610030E20Rik                        </td><td>RIKEN cDNA 0610030E20 gene           </td><td>no                                   </td><td>no                                   </td><td>YES                                  </td><td>no                                   </td><td>no                                   </td><td>no                                   </td><td>FALSE                                </td><td>FALSE                                </td><td>FALSE                                </td></tr>\n",
       "\t<tr><td>1110004F10Rik                        </td><td>ENSMUSG00000030663                   </td><td>1110004F10Rik                        </td><td>RIKEN cDNA 1110004F10 gene           </td><td>no                                   </td><td>no                                   </td><td>YES                                  </td><td>no                                   </td><td>no                                   </td><td>YES                                  </td><td>FALSE                                </td><td>FALSE                                </td><td>FALSE                                </td></tr>\n",
       "\t<tr><td>1110008L16Rik                        </td><td>ENSMUSG00000021023                   </td><td>1110008L16Rik                        </td><td>RIKEN cDNA 1110008L16 gene           </td><td>no                                   </td><td>no                                   </td><td>no                                   </td><td>no                                   </td><td>YES                                  </td><td>no                                   </td><td>FALSE                                </td><td>FALSE                                </td><td>FALSE                                </td></tr>\n",
       "\t<tr><td>1110037F02Rik                        </td><td>ENSMUSG00000040720                   </td><td>1110037F02Rik                        </td><td>RIKEN cDNA 1110037F02 gene           </td><td>no                                   </td><td>no                                   </td><td>no                                   </td><td>no                                   </td><td>YES                                  </td><td>no                                   </td><td>FALSE                                </td><td>FALSE                                </td><td>FALSE                                </td></tr>\n",
       "\t<tr><td>1700009N14Rik                        </td><td>ENSMUSG00000028287                   </td><td>1700009N14Rik                        </td><td>RIKEN cDNA 1700009N14 gene           </td><td>no                                   </td><td>no                                   </td><td>no                                   </td><td>no                                   </td><td>YES                                  </td><td>no                                   </td><td>FALSE                                </td><td>FALSE                                </td><td>FALSE                                </td></tr>\n",
       "</tbody>\n",
       "</table>\n"
      ],
      "text/latex": [
       "\\begin{tabular}{r|lllllllllllll}\n",
       " UNIQUE & ID & Name & Description & MEF.IC & mESC.nIC & RAW264.7.IC & mESC.IC & HL.1.IC & HL.1.RBDmap & Enzyme & Metabolism & X.Metabolic.Enzyme.\\\\\n",
       "\\hline\n",
       "\t                                       &                                       &                                       &                                       & Mm\\_Boucas2015                       & Mm\\_He2016                           & Mm\\_Liepelt2016                      & Mm\\_Kwon2013                         & Mm\\_Liao2016\\_IC                    & Mm\\_Liao2016\\_RBDmap                &    NA                                 &    NA                                 &    NA                                \\\\\n",
       "\t 0610030E20Rik                         & ENSMUSG00000058706;ENSMUSG00000108680 & 0610030E20Rik                         & RIKEN cDNA 0610030E20 gene            & no                                    & no                                    & YES                                   & no                                    & no                                    & no                                    & FALSE                                 & FALSE                                 & FALSE                                \\\\\n",
       "\t 1110004F10Rik                         & ENSMUSG00000030663                    & 1110004F10Rik                         & RIKEN cDNA 1110004F10 gene            & no                                    & no                                    & YES                                   & no                                    & no                                    & YES                                   & FALSE                                 & FALSE                                 & FALSE                                \\\\\n",
       "\t 1110008L16Rik                         & ENSMUSG00000021023                    & 1110008L16Rik                         & RIKEN cDNA 1110008L16 gene            & no                                    & no                                    & no                                    & no                                    & YES                                   & no                                    & FALSE                                 & FALSE                                 & FALSE                                \\\\\n",
       "\t 1110037F02Rik                         & ENSMUSG00000040720                    & 1110037F02Rik                         & RIKEN cDNA 1110037F02 gene            & no                                    & no                                    & no                                    & no                                    & YES                                   & no                                    & FALSE                                 & FALSE                                 & FALSE                                \\\\\n",
       "\t 1700009N14Rik                         & ENSMUSG00000028287                    & 1700009N14Rik                         & RIKEN cDNA 1700009N14 gene            & no                                    & no                                    & no                                    & no                                    & YES                                   & no                                    & FALSE                                 & FALSE                                 & FALSE                                \\\\\n",
       "\\end{tabular}\n"
      ],
      "text/markdown": [
       "\n",
       "| UNIQUE | ID | Name | Description | MEF.IC | mESC.nIC | RAW264.7.IC | mESC.IC | HL.1.IC | HL.1.RBDmap | Enzyme | Metabolism | X.Metabolic.Enzyme. |\n",
       "|---|---|---|---|---|---|---|---|---|---|---|---|---|\n",
       "|                                       |                                       |                                       |                                       | Mm_Boucas2015                         | Mm_He2016                             | Mm_Liepelt2016                        | Mm_Kwon2013                           | Mm_Liao2016_IC                        | Mm_Liao2016_RBDmap                    |    NA                                 |    NA                                 |    NA                                 |\n",
       "| 0610030E20Rik                         | ENSMUSG00000058706;ENSMUSG00000108680 | 0610030E20Rik                         | RIKEN cDNA 0610030E20 gene            | no                                    | no                                    | YES                                   | no                                    | no                                    | no                                    | FALSE                                 | FALSE                                 | FALSE                                 |\n",
       "| 1110004F10Rik                         | ENSMUSG00000030663                    | 1110004F10Rik                         | RIKEN cDNA 1110004F10 gene            | no                                    | no                                    | YES                                   | no                                    | no                                    | YES                                   | FALSE                                 | FALSE                                 | FALSE                                 |\n",
       "| 1110008L16Rik                         | ENSMUSG00000021023                    | 1110008L16Rik                         | RIKEN cDNA 1110008L16 gene            | no                                    | no                                    | no                                    | no                                    | YES                                   | no                                    | FALSE                                 | FALSE                                 | FALSE                                 |\n",
       "| 1110037F02Rik                         | ENSMUSG00000040720                    | 1110037F02Rik                         | RIKEN cDNA 1110037F02 gene            | no                                    | no                                    | no                                    | no                                    | YES                                   | no                                    | FALSE                                 | FALSE                                 | FALSE                                 |\n",
       "| 1700009N14Rik                         | ENSMUSG00000028287                    | 1700009N14Rik                         | RIKEN cDNA 1700009N14 gene            | no                                    | no                                    | no                                    | no                                    | YES                                   | no                                    | FALSE                                 | FALSE                                 | FALSE                                 |\n",
       "\n"
      ],
      "text/plain": [
       "  UNIQUE        ID                                    Name         \n",
       "1                                                                  \n",
       "2 0610030E20Rik ENSMUSG00000058706;ENSMUSG00000108680 0610030E20Rik\n",
       "3 1110004F10Rik ENSMUSG00000030663                    1110004F10Rik\n",
       "4 1110008L16Rik ENSMUSG00000021023                    1110008L16Rik\n",
       "5 1110037F02Rik ENSMUSG00000040720                    1110037F02Rik\n",
       "6 1700009N14Rik ENSMUSG00000028287                    1700009N14Rik\n",
       "  Description                MEF.IC        mESC.nIC  RAW264.7.IC    mESC.IC    \n",
       "1                            Mm_Boucas2015 Mm_He2016 Mm_Liepelt2016 Mm_Kwon2013\n",
       "2 RIKEN cDNA 0610030E20 gene no            no        YES            no         \n",
       "3 RIKEN cDNA 1110004F10 gene no            no        YES            no         \n",
       "4 RIKEN cDNA 1110008L16 gene no            no        no             no         \n",
       "5 RIKEN cDNA 1110037F02 gene no            no        no             no         \n",
       "6 RIKEN cDNA 1700009N14 gene no            no        no             no         \n",
       "  HL.1.IC        HL.1.RBDmap        Enzyme Metabolism X.Metabolic.Enzyme.\n",
       "1 Mm_Liao2016_IC Mm_Liao2016_RBDmap    NA     NA         NA              \n",
       "2 no             no                 FALSE  FALSE      FALSE              \n",
       "3 no             YES                FALSE  FALSE      FALSE              \n",
       "4 YES            no                 FALSE  FALSE      FALSE              \n",
       "5 YES            no                 FALSE  FALSE      FALSE              \n",
       "6 YES            no                 FALSE  FALSE      FALSE              "
      ]
     },
     "metadata": {},
     "output_type": "display_data"
    }
   ],
   "source": [
    "RBPs_annot= read.csv(\"./RNAbindingProteins/RBP_HS_keys.csv\", stringsAsFactors = FALSE)\n"
   ]
  },
  {
   "cell_type": "code",
   "execution_count": 81,
   "metadata": {},
   "outputs": [],
   "source": [
    "RPBs_keys=tail(as.vector(RBPs_annot$UNIQUE), -1)"
   ]
  },
  {
   "cell_type": "code",
   "execution_count": 82,
   "metadata": {},
   "outputs": [],
   "source": [
    "rbp_annot=list()\n",
    "tf_annot=list()\n",
    "plaac_annot=list()\n",
    "\n",
    "for (i in 1:length(merged_df_2$gene_symbol)) {\n",
    "    if(merged_df_2$gene_symbol[[i]]%in% toupper(RPBs_keys)){\n",
    "        rbp_annot[i]=\"yes\"\n",
    "    }\n",
    "    else if(merged_df_2$gene_symbol[[i]] %ni% toupper(RPBs_keys)){\n",
    "        rbp_annot[i]=\"no\"\n",
    "    } \n",
    "        \n",
    "    if(merged_df_2$gene_symbol[[i]]%in% toupper(TFs_annot$Name)){\n",
    "        tf_annot[i]=\"yes\"\n",
    "    }\n",
    "    else if(merged_df_2$gene_symbol[[i]] %ni% toupper(TFs_annot$Name)){\n",
    "        tf_annot[i]=\"no\"\n",
    "    } \n",
    "        \n",
    "        if(merged_df_2$ID[[i]] %in% (plaac_values$ID)){\n",
    "        plaac_annot[i]=\"yes\"\n",
    "    }\n",
    "    else if(merged_df_2$ID[[i]] %ni% (plaac_values$ID)){\n",
    "        plaac_annot[i]=\"no\"\n",
    "    }     \n",
    "  #print(merged_df_2$gene_symbol[[i]])\n",
    "}"
   ]
  },
  {
   "cell_type": "code",
   "execution_count": null,
   "metadata": {},
   "outputs": [],
   "source": []
  },
  {
   "cell_type": "code",
   "execution_count": 84,
   "metadata": {},
   "outputs": [],
   "source": [
    "merged_df_2$plaac_annot=as.character(plaac_annot)\n",
    "merged_df_2$rbp_annot=as.character(rbp_annot)\n",
    "merged_df_2$tf_annot=as.character(tf_annot)\n"
   ]
  },
  {
   "cell_type": "code",
   "execution_count": 269,
   "metadata": {},
   "outputs": [],
   "source": [
    "merged_df_2$interprot_region=as.character(merged_df_2$interprot_region)"
   ]
  },
  {
   "cell_type": "code",
   "execution_count": 270,
   "metadata": {},
   "outputs": [],
   "source": [
    "write_xlsx(merged_df_2,\"MasterTable_canonicalHuman_qIDR.xlsx\")"
   ]
  },
  {
   "cell_type": "code",
   "execution_count": null,
   "metadata": {},
   "outputs": [],
   "source": []
  }
 ],
 "metadata": {
  "kernelspec": {
   "display_name": "R",
   "language": "R",
   "name": "ir"
  },
  "language_info": {
   "codemirror_mode": "r",
   "file_extension": ".r",
   "mimetype": "text/x-r-source",
   "name": "R",
   "pygments_lexer": "r",
   "version": "4.1.0"
  }
 },
 "nbformat": 4,
 "nbformat_minor": 4
}
